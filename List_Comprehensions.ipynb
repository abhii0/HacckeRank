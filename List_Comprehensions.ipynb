{
  "nbformat": 4,
  "nbformat_minor": 0,
  "metadata": {
    "colab": {
      "name": "List Comprehensions.ipynb",
      "provenance": [],
      "authorship_tag": "ABX9TyNlBALDPrkQPUTfCfcVVm9k",
      "include_colab_link": true
    },
    "kernelspec": {
      "name": "python3",
      "display_name": "Python 3"
    },
    "language_info": {
      "name": "python"
    }
  },
  "cells": [
    {
      "cell_type": "markdown",
      "metadata": {
        "id": "view-in-github",
        "colab_type": "text"
      },
      "source": [
        "<a href=\"https://colab.research.google.com/github/abhii0/HacckeRank/blob/main/List_Comprehensions.ipynb\" target=\"_parent\"><img src=\"https://colab.research.google.com/assets/colab-badge.svg\" alt=\"Open In Colab\"/></a>"
      ]
    },
    {
      "cell_type": "code",
      "metadata": {
        "id": "esIznNc44T5B"
      },
      "source": [
        "if __name__ == '__main__':\n",
        "    x = int(input())\n",
        "    y = int(input())\n",
        "    z = int(input())\n",
        "    n = int(input())\n",
        "    output =[]\n",
        "    hell =[]\n",
        "    for i in range(x+1):\n",
        "        for j in range(y+1):\n",
        "            for k in range(z+1):\n",
        "                if(i+j+k)!=n:\n",
        "                    hell=[i,j,k]\n",
        "                    output.append(hell)\n",
        "print(output)                   \n",
        "    \n"
      ],
      "execution_count": null,
      "outputs": []
    }
  ]
}