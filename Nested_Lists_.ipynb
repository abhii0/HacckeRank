{
  "nbformat": 4,
  "nbformat_minor": 0,
  "metadata": {
    "colab": {
      "name": "Nested Lists .ipynb",
      "provenance": [],
      "authorship_tag": "ABX9TyPFXjZCy2AUmmjukfiEiRSl",
      "include_colab_link": true
    },
    "kernelspec": {
      "name": "python3",
      "display_name": "Python 3"
    },
    "language_info": {
      "name": "python"
    }
  },
  "cells": [
    {
      "cell_type": "markdown",
      "metadata": {
        "id": "view-in-github",
        "colab_type": "text"
      },
      "source": [
        "<a href=\"https://colab.research.google.com/github/abhii0/HacckeRank/blob/main/Nested_Lists_.ipynb\" target=\"_parent\"><img src=\"https://colab.research.google.com/assets/colab-badge.svg\" alt=\"Open In Colab\"/></a>"
      ]
    },
    {
      "cell_type": "code",
      "metadata": {
        "id": "bVziBfEddl07"
      },
      "source": [
        "n=int(input())\n",
        "marksheet=[]\n",
        "markslist=[]\n",
        "for i in range(n):\n",
        "    name=input()\n",
        "    score=float(input())\n",
        "    marksheet.append([name,score])\n",
        "    markslist.append(score)\n",
        "\n",
        "marksheet.sort()\n",
        "secondlowestscore=sorted(set(markslist))[1]\n",
        "for i,j in marksheet:\n",
        "    if j==secondlowestscore:\n",
        "        print(i)\n"
      ],
      "execution_count": null,
      "outputs": []
    }
  ]
}